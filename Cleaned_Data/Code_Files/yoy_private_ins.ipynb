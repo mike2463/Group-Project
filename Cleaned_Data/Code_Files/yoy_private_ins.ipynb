{
 "cells": [
  {
   "cell_type": "code",
   "execution_count": 2,
   "metadata": {},
   "outputs": [],
   "source": [
    "import pandas as pd\n",
    "import matplotlib.pyplot as plt\n",
    "import numpy as np\n",
    "\n",
    "# # Read each Excel file into a separate DataFrame\n",
    "df_2018 = pd.read_csv(\"C:/Users/steph/OneDrive/Documents/GitHub/Group-Project/resources/2018_HI_csv.csv\", header = [7])\n",
    "df_2019 = pd.read_csv(\"C:/Users/steph/OneDrive/Documents/GitHub/Group-Project/resources/2019_HI_csv.csv\", header=[9] )\n",
    "df_2020 = pd.read_csv(\"C:/Users/steph/OneDrive/Documents/GitHub/Group-Project/resources/2020_HI_csv.csv\", header = [8])\n",
    "df_2021 = pd.read_csv(\"C:/Users/steph/OneDrive/Documents/GitHub/Group-Project/resources/2021_HI_csv.csv\", header  = [7])"
   ]
  },
  {
   "cell_type": "code",
   "execution_count": 3,
   "metadata": {},
   "outputs": [],
   "source": [
    "df_2018.columns = ['Characteristic', 'Total', 'Any Number', 'Any MOE', 'Any Percent', 'Any MOE',\n",
    "              'Private Total Number', 'Private Number MOE', 'Private Total Percent', 'Private Percent MOE',\n",
    "              'Employment Based Number', 'Employment Based Number MOE', 'Employment Based Percent', 'Employment Based Percent MOE',\n",
    "              'Direct Purchase Number', 'Direct Purchase Number MOE', 'Direct Purchase Percent', 'Direct Purchase Percent MOE',\n",
    "              'Tricare Number', 'Tricare Number MOE', 'Tricare Percent', 'Tricare Percent MOE',\n",
    "              'Public Total Number', 'Public Number MOE', 'Public Total Percent', 'Public Percent MOE',\n",
    "              'Medicare Number', 'Medicare Number MOE', 'Medicare Percent', 'Medicare Percent MOE',\n",
    "              'Medicaid Number', 'Medicaid Number MOE', 'Medicaid Percent', 'Medicaid Percent MOE',\n",
    "              'VA/CHAMPVA Number', 'VA/CHAMPVA Number MOE', 'VA/CHAMPVA Percent', 'VA/CHAMPVA Percent MOE',\n",
    "              'Uninsured Number', 'Uninsured Number MOE', 'Uninsured Percent', 'Uninsured Percent MOE']\n",
    "df_2019.columns = ['Characteristic', 'Total', 'Any Number', 'Any MOE', 'Any Percent', 'Any MOE',\n",
    "              'Private Total Number', 'Private Number MOE', 'Private Total Percent', 'Private Percent MOE',\n",
    "              'Employment Based Number', 'Employment Based Number MOE', 'Employment Based Percent', 'Employment Based Percent MOE',\n",
    "              'Direct Purchase Number', 'Direct Purchase Number MOE', 'Direct Purchase Percent', 'Direct Purchase Percent MOE',\n",
    "              'Tricare Number', 'Tricare Number MOE', 'Tricare Percent', 'Tricare Percent MOE',\n",
    "              'Public Total Number', 'Public Number MOE', 'Public Total Percent', 'Public Percent MOE',\n",
    "              'Medicare Number', 'Medicare Number MOE', 'Medicare Percent', 'Medicare Percent MOE',\n",
    "              'Medicaid Number', 'Medicaid Number MOE', 'Medicaid Percent', 'Medicaid Percent MOE',\n",
    "              'VA/CHAMPVA Number', 'VA/CHAMPVA Number MOE', 'VA/CHAMPVA Percent', 'VA/CHAMPVA Percent MOE',\n",
    "              'Uninsured Number', 'Uninsured Number MOE', 'Uninsured Percent', 'Uninsured Percent MOE']\n",
    "df_2020.columns = ['Characteristic', 'Total', 'Any Number', 'Any MOE', 'Any Percent', 'Any MOE',\n",
    "              'Private Total Number', 'Private Number MOE', 'Private Total Percent', 'Private Percent MOE',\n",
    "              'Employment Based Number', 'Employment Based Number MOE', 'Employment Based Percent', 'Employment Based Percent MOE',\n",
    "              'Direct Purchase Number', 'Direct Purchase Number MOE', 'Direct Purchase Percent', 'Direct Purchase Percent MOE',\n",
    "              'Tricare Number', 'Tricare Number MOE', 'Tricare Percent', 'Tricare Percent MOE',\n",
    "              'Public Total Number', 'Public Number MOE', 'Public Total Percent', 'Public Percent MOE',\n",
    "              'Medicare Number', 'Medicare Number MOE', 'Medicare Percent', 'Medicare Percent MOE',\n",
    "              'Medicaid Number', 'Medicaid Number MOE', 'Medicaid Percent', 'Medicaid Percent MOE',\n",
    "              'VA/CHAMPVA Number', 'VA/CHAMPVA Number MOE', 'VA/CHAMPVA Percent', 'VA/CHAMPVA Percent MOE',\n",
    "              'Uninsured Number', 'Uninsured Number MOE',\n",
    "              'Uninsured Percent', 'Uninsured Percent MOE']\n",
    "df_2021.columns = ['Characteristic', 'Total', 'Any Number', 'Any MOE', 'Any Percent', 'Any MOE',\n",
    "              'Private Total Number', 'Private Number MOE', 'Private Total Percent', 'Private Percent MOE',\n",
    "              'Employment Based Number', 'Employment Based Number MOE', 'Employment Based Percent', 'Employment Based Percent MOE',\n",
    "              'Direct Purchase Number', 'Direct Purchase Number MOE', 'Direct Purchase Percent', 'Direct Purchase Percent MOE',\n",
    "              'Tricare Number', 'Tricare Number MOE', 'Tricare Percent', 'Tricare Percent MOE',\n",
    "              'Public Total Number', 'Public Number MOE', 'Public Total Percent', 'Public Percent MOE',\n",
    "              'Medicare Number', 'Medicare Number MOE', 'Medicare Percent', 'Medicare Percent MOE',\n",
    "              'Medicaid Number', 'Medicaid Number MOE', 'Medicaid Percent', 'Medicaid Percent MOE',\n",
    "              'VA/CHAMPVA Number', 'VA/CHAMPVA Number MOE', 'VA/CHAMPVA Percent', 'VA/CHAMPVA Percent MOE',\n",
    "              'Uninsured Number', 'Uninsured Number MOE',\n",
    "              'Uninsured Percent', 'Uninsured Percent MOE']\n",
    "df_2018_private = df_2018[['Characteristic', 'Total', 'Any Number', 'Any MOE', 'Any Percent', 'Any MOE',\n",
    "              'Private Total Number', 'Private Number MOE', 'Private Total Percent', 'Private Percent MOE',\n",
    "              'Employment Based Number', 'Employment Based Number MOE', 'Employment Based Percent', 'Employment Based Percent MOE',\n",
    "              'Direct Purchase Number', 'Direct Purchase Number MOE', 'Direct Purchase Percent', 'Direct Purchase Percent MOE',\n",
    "              'Tricare Number', 'Tricare Number MOE', 'Tricare Percent', 'Tricare Percent MOE']]\n",
    "\n",
    "df_2019_private = df_2019[['Characteristic', 'Total', 'Any Number', 'Any MOE', 'Any Percent', 'Any MOE',\n",
    "              'Private Total Number', 'Private Number MOE', 'Private Total Percent', 'Private Percent MOE',\n",
    "              'Employment Based Number', 'Employment Based Number MOE', 'Employment Based Percent', 'Employment Based Percent MOE',\n",
    "              'Direct Purchase Number', 'Direct Purchase Number MOE', 'Direct Purchase Percent', 'Direct Purchase Percent MOE',\n",
    "              'Tricare Number', 'Tricare Number MOE', 'Tricare Percent', 'Tricare Percent MOE']]\n",
    "\n",
    "df_2020_private = df_2020[['Characteristic', 'Total', 'Any Number', 'Any MOE', 'Any Percent', 'Any MOE',\n",
    "              'Private Total Number', 'Private Number MOE', 'Private Total Percent', 'Private Percent MOE',\n",
    "              'Employment Based Number', 'Employment Based Number MOE', 'Employment Based Percent', 'Employment Based Percent MOE',\n",
    "              'Direct Purchase Number', 'Direct Purchase Number MOE', 'Direct Purchase Percent', 'Direct Purchase Percent MOE',\n",
    "              'Tricare Number', 'Tricare Number MOE', 'Tricare Percent', 'Tricare Percent MOE']]\n",
    "\n",
    "df_2021_private = df_2021[['Characteristic', 'Total', 'Any Number', 'Any MOE', 'Any Percent', 'Any MOE',\n",
    "              'Private Total Number', 'Private Number MOE', 'Private Total Percent', 'Private Percent MOE',\n",
    "              'Employment Based Number', 'Employment Based Number MOE', 'Employment Based Percent', 'Employment Based Percent MOE',\n",
    "              'Direct Purchase Number', 'Direct Purchase Number MOE', 'Direct Purchase Percent', 'Direct Purchase Percent MOE',\n",
    "              'Tricare Number', 'Tricare Number MOE', 'Tricare Percent', 'Tricare Percent MOE']]"
   ]
  },
  {
   "cell_type": "code",
   "execution_count": 4,
   "metadata": {},
   "outputs": [],
   "source": [
    "private_2018 = int(df_2018['Private Total Number'].values[0].replace(',', ''))\n",
    "private_2019 = int(df_2019['Private Total Number'].values[0].replace(',', ''))\n",
    "private_2020 = int(df_2020['Private Total Number'].values[0].replace(',', ''))\n",
    "private_2021 = int(df_2021['Private Total Number'].values[1].replace(',', ''))\n",
    "\n",
    "years = [\"2018\", \"2019\", \"2020\", \"2021\"]\n",
    "totals = [private_2018, private_2019, private_2020, private_2021]\n",
    "\n",
    "\n"
   ]
  },
  {
   "cell_type": "code",
   "execution_count": 5,
   "metadata": {},
   "outputs": [
    {
     "data": {
      "image/png": "[encoded data removed]",
      "text/plain": [
       "<Figure size 432x288 with 1 Axes>"
      ]
     },
     "metadata": {
      "needs_background": "light"
     },
     "output_type": "display_data"
    }
   ],
   "source": [
    "yeartotal_compare=plt.plot(years, totals, marker='o')\n",
    "plt.title(\"Private Insurance Users Over Time\")\n",
    "plt.xlabel(\"Year\")\n",
    "plt.ylabel(\"Total # of Private Insurance Users\")\n",
    "\n",
    "plt.savefig('year_total_private_compare.png')"
   ]
  }
 ],
 "metadata": {
  "kernelspec": {
   "display_name": "PythonData",
   "language": "python",
   "name": "python3"
  },
  "language_info": {
   "codemirror_mode": {
    "name": "ipython",
    "version": 3
   },
   "file_extension": ".py",
   "mimetype": "text/x-python",
   "name": "python",
   "nbconvert_exporter": "python",
   "pygments_lexer": "ipython3",
   "version": "3.7.7"
  },
  "orig_nbformat": 4
 },
 "nbformat": 4,
 "nbformat_minor": 2
}
